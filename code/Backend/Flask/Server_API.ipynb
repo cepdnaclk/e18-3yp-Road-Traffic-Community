{
  "nbformat": 4,
  "nbformat_minor": 0,
  "metadata": {
    "colab": {
      "provenance": [],
      "authorship_tag": "ABX9TyMED6f9pqCzX20N3PuMU1In",
      "include_colab_link": true
    },
    "kernelspec": {
      "name": "python3",
      "display_name": "Python 3"
    },
    "language_info": {
      "name": "python"
    }
  },
  "cells": [
    {
      "cell_type": "markdown",
      "metadata": {
        "id": "view-in-github",
        "colab_type": "text"
      },
      "source": [
        "<a href=\"https://colab.research.google.com/github/cepdnaclk/e18-3yp-Road-Traffic-Ecosystem/blob/main/code/Backend/Flask/Server_API.ipynb\" target=\"_parent\"><img src=\"https://colab.research.google.com/assets/colab-badge.svg\" alt=\"Open In Colab\"/></a>"
      ]
    },
    {
      "cell_type": "code",
      "execution_count": 1,
      "metadata": {
        "colab": {
          "base_uri": "https://localhost:8080/"
        },
        "id": "SwL7gJxGghW3",
        "outputId": "ad5c5026-4c6b-4ca9-8ce0-a31016407f3a"
      },
      "outputs": [
        {
          "output_type": "stream",
          "name": "stdout",
          "text": [
            "Looking in indexes: https://pypi.org/simple, https://us-python.pkg.dev/colab-wheels/public/simple/\n",
            "Collecting flask-cors\n",
            "  Downloading Flask_Cors-3.0.10-py2.py3-none-any.whl (14 kB)\n",
            "Requirement already satisfied: Flask>=0.9 in /usr/local/lib/python3.8/dist-packages (from flask-cors) (1.1.4)\n",
            "Requirement already satisfied: Six in /usr/local/lib/python3.8/dist-packages (from flask-cors) (1.15.0)\n",
            "Requirement already satisfied: Werkzeug<2.0,>=0.15 in /usr/local/lib/python3.8/dist-packages (from Flask>=0.9->flask-cors) (1.0.1)\n",
            "Requirement already satisfied: itsdangerous<2.0,>=0.24 in /usr/local/lib/python3.8/dist-packages (from Flask>=0.9->flask-cors) (1.1.0)\n",
            "Requirement already satisfied: Jinja2<3.0,>=2.10.1 in /usr/local/lib/python3.8/dist-packages (from Flask>=0.9->flask-cors) (2.11.3)\n",
            "Requirement already satisfied: click<8.0,>=5.1 in /usr/local/lib/python3.8/dist-packages (from Flask>=0.9->flask-cors) (7.1.2)\n",
            "Requirement already satisfied: MarkupSafe>=0.23 in /usr/local/lib/python3.8/dist-packages (from Jinja2<3.0,>=2.10.1->Flask>=0.9->flask-cors) (2.0.1)\n",
            "Installing collected packages: flask-cors\n",
            "Successfully installed flask-cors-3.0.10\n",
            "Looking in indexes: https://pypi.org/simple, https://us-python.pkg.dev/colab-wheels/public/simple/\n",
            "Collecting flask-ngrok\n",
            "  Downloading flask_ngrok-0.0.25-py3-none-any.whl (3.1 kB)\n",
            "Requirement already satisfied: requests in /usr/local/lib/python3.8/dist-packages (from flask-ngrok) (2.23.0)\n",
            "Requirement already satisfied: Flask>=0.8 in /usr/local/lib/python3.8/dist-packages (from flask-ngrok) (1.1.4)\n",
            "Requirement already satisfied: Werkzeug<2.0,>=0.15 in /usr/local/lib/python3.8/dist-packages (from Flask>=0.8->flask-ngrok) (1.0.1)\n",
            "Requirement already satisfied: click<8.0,>=5.1 in /usr/local/lib/python3.8/dist-packages (from Flask>=0.8->flask-ngrok) (7.1.2)\n",
            "Requirement already satisfied: Jinja2<3.0,>=2.10.1 in /usr/local/lib/python3.8/dist-packages (from Flask>=0.8->flask-ngrok) (2.11.3)\n",
            "Requirement already satisfied: itsdangerous<2.0,>=0.24 in /usr/local/lib/python3.8/dist-packages (from Flask>=0.8->flask-ngrok) (1.1.0)\n",
            "Requirement already satisfied: MarkupSafe>=0.23 in /usr/local/lib/python3.8/dist-packages (from Jinja2<3.0,>=2.10.1->Flask>=0.8->flask-ngrok) (2.0.1)\n",
            "Requirement already satisfied: chardet<4,>=3.0.2 in /usr/local/lib/python3.8/dist-packages (from requests->flask-ngrok) (3.0.4)\n",
            "Requirement already satisfied: urllib3!=1.25.0,!=1.25.1,<1.26,>=1.21.1 in /usr/local/lib/python3.8/dist-packages (from requests->flask-ngrok) (1.24.3)\n",
            "Requirement already satisfied: certifi>=2017.4.17 in /usr/local/lib/python3.8/dist-packages (from requests->flask-ngrok) (2022.9.24)\n",
            "Requirement already satisfied: idna<3,>=2.5 in /usr/local/lib/python3.8/dist-packages (from requests->flask-ngrok) (2.10)\n",
            "Installing collected packages: flask-ngrok\n",
            "Successfully installed flask-ngrok-0.0.25\n"
          ]
        }
      ],
      "source": [
        "!pip install -U flask-cors\n",
        "!pip install flask-ngrok\n"
      ]
    },
    {
      "cell_type": "code",
      "source": [
        "from flask import Flask,request, jsonify\n",
        "from flask_ngrok import run_with_ngrok\n",
        "import pickle\n",
        "from flask_cors import CORS, cross_origin\n",
        "app = Flask(__name__)\n",
        "CORS(app)\n",
        "run_with_ngrok(app)\n",
        "\n",
        "\n",
        "from math import radians, cos, sin, asin, sqrt\n",
        "def distance(lat1, lat2, lon1, lon2):\n",
        "     \n",
        "    # The math module contains a function named\n",
        "    # radians which converts from degrees to radians.\n",
        "    lon1 = radians(lon1)\n",
        "    lon2 = radians(lon2)\n",
        "    lat1 = radians(lat1)\n",
        "    lat2 = radians(lat2)\n",
        "      \n",
        "    # Haversine formula\n",
        "    dlon = lon2 - lon1\n",
        "    dlat = lat2 - lat1\n",
        "    a = sin(dlat / 2)**2 + cos(lat1) * cos(lat2) * sin(dlon / 2)**2\n",
        " \n",
        "    c = 2 * asin(sqrt(a))\n",
        "    \n",
        "    # Radius of earth in kilometers. Use 3956 for miles\n",
        "    r = 6371\n",
        "      \n",
        "    # calculate the result\n",
        "    return(c * r)\n",
        "\n",
        "@app.route('/')\n",
        "def index():\n",
        "    return jsonify({\"Hello\":\"response1\"})\n",
        "\n",
        "@app.route('/muthuni',methods=['GET'])\n",
        "def index1():\n",
        "    args = request.args\n",
        "    print(args)\n",
        "    longtitude =float(args.get('longtitude'))\n",
        "    latitude =float(args.get('latitude'))\n",
        "\n",
        "    print(longtitude)\n",
        "    print(latitude)\n",
        "    latitude_list = [45,67,87,23,45,89,43,42,53.3205555]\n",
        "    longitude_list = [-1.3,-2.1,-3.6,-1.7,-1.5,-1.4,-2.5,-1.7,-1.72]\n",
        "\n",
        "    closerPoints = []\n",
        "\n",
        "    for i in range(0, len(latitude_list)):\n",
        "        dist = distance(latitude, latitude_list[i], longtitude, longitude_list[i])\n",
        "\n",
        "        if(dist<=10):\n",
        "            closerPoints.append(i)\n",
        "\n",
        "    for j in range(len(closerPoints)):\n",
        "        print (closerPoints[j])\n",
        "\n",
        "    return jsonify(closerPoints)\n",
        "\n",
        "app.run()"
      ],
      "metadata": {
        "colab": {
          "base_uri": "https://localhost:8080/"
        },
        "id": "qoPPQeHGhB-2",
        "outputId": "4d04a6f1-a565-4f31-c3a9-afb2fd944dbb"
      },
      "execution_count": 22,
      "outputs": [
        {
          "output_type": "stream",
          "name": "stdout",
          "text": [
            " * Serving Flask app \"__main__\" (lazy loading)\n",
            " * Environment: production\n",
            "\u001b[31m   WARNING: This is a development server. Do not use it in a production deployment.\u001b[0m\n",
            "\u001b[2m   Use a production WSGI server instead.\u001b[0m\n",
            " * Debug mode: off\n"
          ]
        },
        {
          "output_type": "stream",
          "name": "stderr",
          "text": [
            "INFO:werkzeug: * Running on http://127.0.0.1:5000/ (Press CTRL+C to quit)\n"
          ]
        },
        {
          "output_type": "stream",
          "name": "stdout",
          "text": [
            " * Running on http://768b-34-74-244-236.ngrok.io\n",
            " * Traffic stats available on http://127.0.0.1:4040\n"
          ]
        },
        {
          "output_type": "stream",
          "name": "stderr",
          "text": [
            "INFO:werkzeug:127.0.0.1 - - [12/Dec/2022 18:42:29] \"\u001b[37mGET / HTTP/1.1\u001b[0m\" 200 -\n",
            "INFO:werkzeug:127.0.0.1 - - [12/Dec/2022 18:42:29] \"\u001b[33mGET /favicon.ico HTTP/1.1\u001b[0m\" 404 -\n",
            "INFO:werkzeug:127.0.0.1 - - [12/Dec/2022 18:42:31] \"\u001b[37mGET / HTTP/1.1\u001b[0m\" 200 -\n",
            "INFO:werkzeug:127.0.0.1 - - [12/Dec/2022 18:42:36] \"\u001b[37mGET /muthuni?longtitude=-1.72299&latitude=53.32055555555556 HTTP/1.1\u001b[0m\" 200 -\n"
          ]
        },
        {
          "output_type": "stream",
          "name": "stdout",
          "text": [
            "ImmutableMultiDict([('longtitude', '-1.72299'), ('latitude', '53.32055555555556')])\n",
            "-1.72299\n",
            "53.32055555555556\n",
            "8\n"
          ]
        }
      ]
    },
    {
      "cell_type": "code",
      "source": [
        "# Python 3 program to calculate Distance Between Two Points on Earth\n",
        "from math import radians, cos, sin, asin, sqrt\n",
        "def distance(lat1, lat2, lon1, lon2):\n",
        "     \n",
        "    # The math module contains a function named\n",
        "    # radians which converts from degrees to radians.\n",
        "    lon1 = radians(lon1)\n",
        "    lon2 = radians(lon2)\n",
        "    lat1 = radians(lat1)\n",
        "    lat2 = radians(lat2)\n",
        "      \n",
        "    # Haversine formula\n",
        "    dlon = lon2 - lon1\n",
        "    dlat = lat2 - lat1\n",
        "    a = sin(dlat / 2)**2 + cos(lat1) * cos(lat2) * sin(dlon / 2)**2\n",
        " \n",
        "    c = 2 * asin(sqrt(a))\n",
        "    \n",
        "    # Radius of earth in kilometers. Use 3956 for miles\n",
        "    r = 6371\n",
        "      \n",
        "    # calculate the result\n",
        "    return(c * r)\n",
        "     \n",
        "     \n",
        "# driver code\n",
        "'''lat1 = 53.32055555555556\n",
        "lat2 = 53.31861111111111\n",
        "lon1 = -1.7297222222222221\n",
        "lon2 =  -1.6997222222222223\n",
        "print(distance(lat1, lat2, lon1, lon2), \"K.M\")'''\n",
        "\n",
        "point1lat = 53.32055555555556\n",
        "point1lon = -1.7297222222222221\n",
        "\n",
        "latitude = [45,67,87,23,45,89,43,42,53.3205555]\n",
        "longitude = [-1.3,-2.1,-3.6,-1.7,-1.5,-1.4,-2.5,-1.7,-1.72]\n",
        "\n",
        "closerPoints = []\n",
        "\n",
        "for i in range(0, len(latitude)):\n",
        "    dist = distance(point1lat, latitude[i], point1lon, longitude[i])\n",
        "\n",
        "    if(dist<=10):\n",
        "        closerPoints.append(i)\n",
        "\n",
        "for j in range(len(closerPoints)):\n",
        "    print (closerPoints[j])\n"
      ],
      "metadata": {
        "colab": {
          "base_uri": "https://localhost:8080/"
        },
        "id": "YSvKWbavh7UI",
        "outputId": "3163e536-560d-41e8-ae3c-f471729e77fa"
      },
      "execution_count": 28,
      "outputs": [
        {
          "output_type": "stream",
          "name": "stdout",
          "text": [
            "8\n"
          ]
        }
      ]
    },
    {
      "cell_type": "code",
      "source": [
        "import firebase_admin\n",
        "from firebase_admin import credentials\n",
        "from firebase_admin import firestore\n",
        "\n",
        "# Use a service account.\n",
        "cred = credentials.Certificate('/content/roadsafe-ab1d9-firebase-adminsdk-urj4t-d70338873e.json')\n",
        "\n",
        "app = firebase_admin.initialize_app(cred)\n",
        "\n",
        "db = firestore.client()"
      ],
      "metadata": {
        "id": "J8-PJngmntcZ"
      },
      "execution_count": 1,
      "outputs": []
    },
    {
      "cell_type": "code",
      "source": [
        "doc_ref = db.collection(u'users').document(u'alovelace')\n",
        "doc_ref.set({\n",
        "    u'first': u'Ada',\n",
        "    u'last': u'Lovelace',\n",
        "    u'born': 1815\n",
        "})"
      ],
      "metadata": {
        "colab": {
          "base_uri": "https://localhost:8080/"
        },
        "id": "6xGWUEyinyVa",
        "outputId": "7c8832cf-23ca-46a6-895e-109b2e4cc5e5"
      },
      "execution_count": 3,
      "outputs": [
        {
          "output_type": "execute_result",
          "data": {
            "text/plain": [
              "update_time {\n",
              "  seconds: 1670937264\n",
              "  nanos: 706112000\n",
              "}"
            ]
          },
          "metadata": {},
          "execution_count": 3
        }
      ]
    },
    {
      "cell_type": "code",
      "source": [
        "import firebase_admin\n",
        "from firebase_admin import db\n",
        "\n",
        "\n",
        "cred_obj = firebase_admin.credentials.Certificate('/content/roadsafe-ab1d9-firebase-adminsdk-urj4t-d70338873e.json')\n",
        "default_app = firebase_admin.initialize_app(cred_obj, {\n",
        "\t'databaseURL':\"https://roadsafe-ab1d9-default-rtdb.firebaseio.com\"\n",
        "\t})\n",
        "ref = db.reference(\"/\")\n",
        "ref.set({\n",
        "\t\"Books\":\n",
        "\t{\n",
        "\t\t\"Best_Sellers\": -1\n",
        "\t}\n",
        "})"
      ],
      "metadata": {
        "colab": {
          "base_uri": "https://localhost:8080/",
          "height": 419
        },
        "id": "AlDj4YASizE9",
        "outputId": "4fd8cbbe-7b0a-478a-9178-129ad4c7cd11"
      },
      "execution_count": 6,
      "outputs": [
        {
          "output_type": "error",
          "ename": "ValueError",
          "evalue": "ignored",
          "traceback": [
            "\u001b[0;31m---------------------------------------------------------------------------\u001b[0m",
            "\u001b[0;31mValueError\u001b[0m                                Traceback (most recent call last)",
            "\u001b[0;32m<ipython-input-6-37535ca0e3bb>\u001b[0m in \u001b[0;36m<module>\u001b[0;34m\u001b[0m\n\u001b[1;32m      4\u001b[0m \u001b[0;34m\u001b[0m\u001b[0m\n\u001b[1;32m      5\u001b[0m \u001b[0mcred_obj\u001b[0m \u001b[0;34m=\u001b[0m \u001b[0mfirebase_admin\u001b[0m\u001b[0;34m.\u001b[0m\u001b[0mcredentials\u001b[0m\u001b[0;34m.\u001b[0m\u001b[0mCertificate\u001b[0m\u001b[0;34m(\u001b[0m\u001b[0;34m'/content/roadsafe-ab1d9-firebase-adminsdk-urj4t-d70338873e.json'\u001b[0m\u001b[0;34m)\u001b[0m\u001b[0;34m\u001b[0m\u001b[0;34m\u001b[0m\u001b[0m\n\u001b[0;32m----> 6\u001b[0;31m default_app = firebase_admin.initialize_app(cred_obj, {\n\u001b[0m\u001b[1;32m      7\u001b[0m         \u001b[0;34m'databaseURL'\u001b[0m\u001b[0;34m:\u001b[0m\u001b[0;34m\"https://roadsafe-ab1d9-default-rtdb.firebaseio.com\"\u001b[0m\u001b[0;34m\u001b[0m\u001b[0;34m\u001b[0m\u001b[0m\n\u001b[1;32m      8\u001b[0m \t})\n",
            "\u001b[0;32m/usr/local/lib/python3.8/dist-packages/firebase_admin/__init__.py\u001b[0m in \u001b[0;36minitialize_app\u001b[0;34m(credential, options, name)\u001b[0m\n\u001b[1;32m     69\u001b[0m \u001b[0;34m\u001b[0m\u001b[0m\n\u001b[1;32m     70\u001b[0m     \u001b[0;32mif\u001b[0m \u001b[0mname\u001b[0m \u001b[0;34m==\u001b[0m \u001b[0m_DEFAULT_APP_NAME\u001b[0m\u001b[0;34m:\u001b[0m\u001b[0;34m\u001b[0m\u001b[0;34m\u001b[0m\u001b[0m\n\u001b[0;32m---> 71\u001b[0;31m         raise ValueError((\n\u001b[0m\u001b[1;32m     72\u001b[0m             \u001b[0;34m'The default Firebase app already exists. This means you called '\u001b[0m\u001b[0;34m\u001b[0m\u001b[0;34m\u001b[0m\u001b[0m\n\u001b[1;32m     73\u001b[0m             \u001b[0;34m'initialize_app() more than once without providing an app name as '\u001b[0m\u001b[0;34m\u001b[0m\u001b[0;34m\u001b[0m\u001b[0m\n",
            "\u001b[0;31mValueError\u001b[0m: The default Firebase app already exists. This means you called initialize_app() more than once without providing an app name as the second argument. In most cases you only need to call initialize_app() once. But if you do want to initialize multiple apps, pass a second argument to initialize_app() to give each app a unique name."
          ]
        }
      ]
    },
    {
      "cell_type": "code",
      "source": [
        "ref = db.reference('Locations')\n",
        "print(ref.get())\n",
        "latitude=[]\n",
        "longtitude =[]\n",
        "user_id=[]\n",
        "for i in ref.get():\n",
        "  user_id.append(i)\n",
        "\n",
        "print(user_id)\n",
        "for i in ref.get():\n",
        "  latitude.append(ref.get()[i]['lat'])\n",
        "  longtitude.append(ref.get()[i]['long'])\n",
        "print(latitude)\n",
        "print(longtitude)\n",
        "\n",
        "closerPoints = []\n",
        "\n",
        "point1lat = 53.32055555555556\n",
        "point1lon = -1.72972222222222\n",
        "\n",
        "for i in range(0, len(latitude)):\n",
        "    dist = distance(point1lat, latitude[i], point1lon, longitude[i])\n",
        "\n",
        "    if(dist<=10):\n",
        "        closerPoints.append(i)\n",
        "\n",
        "for j in range(len(closerPoints)):\n",
        "    print (closerPoints[j])\n",
        "\n",
        "for i in closerPoints:\n",
        "  uid=user_id[i]\n",
        "  print(\"dsd\"+uid)\n"
      ],
      "metadata": {
        "colab": {
          "base_uri": "https://localhost:8080/"
        },
        "id": "XKY8ZWG4Rz65",
        "outputId": "e7f94a72-1154-49ca-b4ff-d085232d7be0"
      },
      "execution_count": 32,
      "outputs": [
        {
          "output_type": "stream",
          "name": "stdout",
          "text": [
            "{'User1': {'lat': 12, 'long': 45}, 'User2': {'lat': 45, 'long': 23}, 'User3': {'lat': 25, 'long': 43}, 'User4': {'lat': 53.3205, 'long': -1.7297}}\n",
            "['User1', 'User2', 'User3', 'User4']\n",
            "[12, 45, 25, 53.3205]\n",
            "[45, 23, 43, -1.7297]\n",
            "3\n",
            "dsdUser4\n"
          ]
        }
      ]
    },
    {
      "cell_type": "markdown",
      "source": [
        "##Call emergency contacts"
      ],
      "metadata": {
        "id": "52YnJqUK8MQF"
      }
    },
    {
      "cell_type": "code",
      "source": [
        "ref = db.reference('UserDetails')\n",
        "print(ref.get())"
      ],
      "metadata": {
        "colab": {
          "base_uri": "https://localhost:8080/"
        },
        "id": "A__tbLNl8MIk",
        "outputId": "2fd33d6e-8677-4bc9-d76b-35f1391eb1fd"
      },
      "execution_count": 33,
      "outputs": [
        {
          "output_type": "stream",
          "name": "stdout",
          "text": [
            "{'-NJGbAmYkbCGwzWR44Lt': {'QRcode': '077767676jjj', 'id': 'kka'}, '-NJGbJEHs5umuIGcExqA': {'QRcode': '077767676jjj', 'id': 'kka'}, '-NJGccbPQa33UxO4JCDo': {'QRcode': '077767676jjj', 'id': 'kka'}, '-NJGccrBMhL-mThISRr2': {'QRcode': '077767676jjj', 'id': 'kka'}}\n"
          ]
        }
      ]
    }
  ]
}